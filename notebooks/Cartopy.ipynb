{
 "cells": [
  {
   "cell_type": "code",
   "execution_count": 6,
   "metadata": {},
   "outputs": [
    {
     "name": "stdout",
     "output_type": "stream",
     "text": [
      "48845543622.71094\n"
     ]
    }
   ],
   "source": [
    "import os\n",
    "import matplotlib.pyplot as plt\n",
    "import numpy as np\n",
    "import pygrib\n",
    "from cartopy import config\n",
    "import cartopy.crs as ccrs\n",
    "\n",
    "fname = \"/home/earthshakira/gfs.t00z.pgrb2b.0p25.f030\"\n",
    "x = pygrib.open(fname)\n",
    "d = x.read()[0].data()[0]\n",
    "\n",
    "s = 0\n",
    "for i in d:\n",
    "    for j in i:\n",
    "        s += j\n",
    "print(s)\n",
    "        \n",
    "\n"
   ]
  }
 ],
 "metadata": {
  "kernelspec": {
   "display_name": "Python 3.6.9 64-bit",
   "language": "python",
   "name": "python36964bit4fe94f2363214a8ab8d6066db31be1b2"
  },
  "language_info": {
   "codemirror_mode": {
    "name": "ipython",
    "version": 3
   },
   "file_extension": ".py",
   "mimetype": "text/x-python",
   "name": "python",
   "nbconvert_exporter": "python",
   "pygments_lexer": "ipython3",
   "version": "3.6.9"
  }
 },
 "nbformat": 4,
 "nbformat_minor": 4
}

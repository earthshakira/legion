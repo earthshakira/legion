{
 "cells": [
  {
   "cell_type": "code",
   "execution_count": 5,
   "metadata": {},
   "outputs": [],
   "source": [
    "import os\n",
    "import matplotlib.pyplot as plt\n",
    "import numpy as np\n",
    "import pygrib\n",
    "from cartopy import config\n",
    "import cartopy.feature as cfeature\n",
    "import cartopy.crs as ccrs\n",
    "\n",
    "fname = \"/home/earthshakira/gfs.t00z.pgrb2b.0p25.f030\"\n",
    "x = pygrib.open(fname)\n",
    "b = True\n",
    "ucomp = None\n",
    "for d in x:\n",
    "    if b:\n",
    "        b=False\n",
    "    else:\n",
    "        break\n",
    "    if str(d).split(\":\")[0] == \"5\":\n",
    "        ucomp = d.data()[0]\n",
    "    if str(d).split(\":\")[0] == \"6\":\n",
    "        break\n",
    "d = d.data()\n",
    "lat = d[1]\n",
    "lon = d[2]\n",
    "sst = d[0]"
   ]
  },
  {
   "cell_type": "code",
   "execution_count": 49,
   "metadata": {},
   "outputs": [],
   "source": [
    "ucomp = np.delete(ucomp, range(1, ucomp.shape[0], 2), axis=0)\n",
    "ucomp = np.delete(ucomp, range(1, ucomp.shape[1], 2), axis=1)\n",
    "ucomp = np.delete(ucomp, range(1, ucomp.shape[0], 2), axis=0)\n",
    "ucomp = np.delete(ucomp, range(1, ucomp.shape[1], 2), axis=1)\n",
    "\n",
    "lat = np.delete(lat, range(1, lat.shape[0], 2), axis=0)\n",
    "lat = np.delete(lat, range(1, lat.shape[1], 2), axis=1)\n",
    "lat = np.delete(lat, range(1, lat.shape[0], 2), axis=0)\n",
    "lat = np.delete(lat, range(1, lat.shape[1], 2), axis=1)\n",
    "\n",
    "lon = np.delete(lon, range(1, lon.shape[0], 2), axis=0)\n",
    "lon = np.delete(lon, range(1, lon.shape[1], 2), axis=1)\n",
    "lon = np.delete(lon, range(1, lon.shape[0], 2), axis=0)\n",
    "lon = np.delete(lon, range(1, lon.shape[1], 2), axis=1)\n",
    "\n",
    "sst = np.delete(sst, range(1, sst.shape[0], 2), axis=0)\n",
    "sst = np.delete(sst, range(1, sst.shape[1], 2), axis=1)\n",
    "sst = np.delete(sst, range(1, sst.shape[0], 2), axis=0)\n",
    "sst = np.delete(sst, range(1, sst.shape[1], 2), axis=1)"
   ]
  },
  {
   "cell_type": "code",
   "execution_count": 15,
   "metadata": {},
   "outputs": [
    {
     "name": "stdout",
     "output_type": "stream",
     "text": [
      "(721, 1440)\n"
     ]
    },
    {
     "ename": "TypeError",
     "evalue": "set_ylim() got an unexpected keyword argument 'crs'",
     "output_type": "error",
     "traceback": [
      "\u001b[0;31m---------------------------------------------------------------------------\u001b[0m",
      "\u001b[0;31mTypeError\u001b[0m                                 Traceback (most recent call last)",
      "\u001b[0;32m<ipython-input-15-d6aa4df45e14>\u001b[0m in \u001b[0;36m<module>\u001b[0;34m\u001b[0m\n\u001b[1;32m      9\u001b[0m \u001b[0;31m# cs = plt.contour(lon,lat, sst, 2000,transform=ccrs.PlateCarree(),levels=range(220,300,2),linewidths=0.1)\u001b[0m\u001b[0;34m\u001b[0m\u001b[0;34m\u001b[0m\u001b[0;34m\u001b[0m\u001b[0m\n\u001b[1;32m     10\u001b[0m \u001b[0;31m# ax.barbs(lon, lat, ucomp, sst,transform=ccrs.PlateCarree(),length=2,linewidth=0.1)\u001b[0m\u001b[0;34m\u001b[0m\u001b[0;34m\u001b[0m\u001b[0;34m\u001b[0m\u001b[0m\n\u001b[0;32m---> 11\u001b[0;31m \u001b[0max\u001b[0m\u001b[0;34m.\u001b[0m\u001b[0mset_ylim\u001b[0m\u001b[0;34m(\u001b[0m\u001b[0;34m[\u001b[0m\u001b[0;36m89\u001b[0m\u001b[0;34m,\u001b[0m\u001b[0;34m-\u001b[0m\u001b[0;36m89\u001b[0m\u001b[0;34m]\u001b[0m\u001b[0;34m,\u001b[0m\u001b[0mcrs\u001b[0m\u001b[0;34m=\u001b[0m\u001b[0mccrs\u001b[0m\u001b[0;34m.\u001b[0m\u001b[0mPlateCarree\u001b[0m\u001b[0;34m(\u001b[0m\u001b[0;34m)\u001b[0m\u001b[0;34m)\u001b[0m\u001b[0;34m\u001b[0m\u001b[0;34m\u001b[0m\u001b[0m\n\u001b[0m\u001b[1;32m     12\u001b[0m \u001b[0;31m# ax.add_image(tiles, 9)\u001b[0m\u001b[0;34m\u001b[0m\u001b[0;34m\u001b[0m\u001b[0;34m\u001b[0m\u001b[0m\n\u001b[1;32m     13\u001b[0m \u001b[0;31m# ax.add_feature(cfeature.BORDERS, linewidth=0.01)\u001b[0m\u001b[0;34m\u001b[0m\u001b[0;34m\u001b[0m\u001b[0;34m\u001b[0m\u001b[0m\n",
      "\u001b[0;31mTypeError\u001b[0m: set_ylim() got an unexpected keyword argument 'crs'"
     ]
    },
    {
     "data": {
      "image/png": "[encoded data removed]",
      "text/plain": [
       "<Figure size 432x288 with 1 Axes>"
      ]
     },
     "metadata": {
      "needs_background": "light"
     },
     "output_type": "display_data"
    }
   ],
   "source": [
    "# Draw coastlines so we know where we are:\n",
    "import matplotlib.pyplot as plt\n",
    "import cartopy.crs as ccrs\n",
    "from cartopy.io import img_tiles\n",
    "\n",
    "# tiles = img_tiles.OSM()\n",
    "print(lat.shape)\n",
    "ax = plt.axes(projection=ccrs.Mercator(central_longitude=0),frameon=False)\n",
    "# cs = plt.contour(lon,lat, sst, 2000,transform=ccrs.PlateCarree(),levels=range(220,300,2),linewidths=0.1) \n",
    "# ax.barbs(lon, lat, ucomp, sst,transform=ccrs.PlateCarree(),length=2,linewidth=0.1)\n",
    "ax.set_extent([-180,179,89,-89],cr)\n",
    "# ax.add_image(tiles, 9)\n",
    "# ax.add_feature(cfeature.BORDERS, linewidth=0.01)\n",
    "ax.add_feature(cfeature.COASTLINE, linewidth=0.1)\n",
    "\n",
    "plt.savefig(\"base.png\",format=\"png\",dpi=2000, bbox_inches='tight',pad_inches=0,transparent=True)\n",
    "plt.show()"
   ]
  }
 ],
 "metadata": {
  "kernelspec": {
   "display_name": "Python 3.6.9 64-bit",
   "language": "python",
   "name": "python36964bit4fe94f2363214a8ab8d6066db31be1b2"
  },
  "language_info": {
   "codemirror_mode": {
    "name": "ipython",
    "version": 3
   },
   "file_extension": ".py",
   "mimetype": "text/x-python",
   "name": "python",
   "nbconvert_exporter": "python",
   "pygments_lexer": "ipython3",
   "version": "3.6.9"
  }
 },
 "nbformat": 4,
 "nbformat_minor": 4
}

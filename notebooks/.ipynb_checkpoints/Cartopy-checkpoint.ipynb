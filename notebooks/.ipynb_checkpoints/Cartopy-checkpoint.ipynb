{
 "cells": [
  {
   "cell_type": "code",
   "execution_count": 5,
   "metadata": {},
   "outputs": [],
   "source": [
    "import os\n",
    "import matplotlib.pyplot as plt\n",
    "import numpy as np\n",
    "import pygrib\n",
    "from cartopy import config\n",
    "import cartopy.feature as cfeature\n",
    "import cartopy.crs as ccrs\n",
    "\n",
    "fname = \"/home/earthshakira/gfs.t00z.pgrb2b.0p25.f030\"\n",
    "x = pygrib.open(fname)\n",
    "b = True\n",
    "ucomp = None\n",
    "for d in x:\n",
    "    if b:\n",
    "        b=False\n",
    "    else:\n",
    "        break\n",
    "    if str(d).split(\":\")[0] == \"5\":\n",
    "        ucomp = d.data()[0]\n",
    "    if str(d).split(\":\")[0] == \"6\":\n",
    "        break\n",
    "d = d.data()\n",
    "lat = d[1]\n",
    "lon = d[2]\n",
    "sst = d[0]"
   ]
  },
  {
   "cell_type": "code",
   "execution_count": 49,
   "metadata": {},
   "outputs": [],
   "source": [
    "ucomp = np.delete(ucomp, range(1, ucomp.shape[0], 2), axis=0)\n",
    "ucomp = np.delete(ucomp, range(1, ucomp.shape[1], 2), axis=1)\n",
    "ucomp = np.delete(ucomp, range(1, ucomp.shape[0], 2), axis=0)\n",
    "ucomp = np.delete(ucomp, range(1, ucomp.shape[1], 2), axis=1)\n",
    "\n",
    "lat = np.delete(lat, range(1, lat.shape[0], 2), axis=0)\n",
    "lat = np.delete(lat, range(1, lat.shape[1], 2), axis=1)\n",
    "lat = np.delete(lat, range(1, lat.shape[0], 2), axis=0)\n",
    "lat = np.delete(lat, range(1, lat.shape[1], 2), axis=1)\n",
    "\n",
    "lon = np.delete(lon, range(1, lon.shape[0], 2), axis=0)\n",
    "lon = np.delete(lon, range(1, lon.shape[1], 2), axis=1)\n",
    "lon = np.delete(lon, range(1, lon.shape[0], 2), axis=0)\n",
    "lon = np.delete(lon, range(1, lon.shape[1], 2), axis=1)\n",
    "\n",
    "sst = np.delete(sst, range(1, sst.shape[0], 2), axis=0)\n",
    "sst = np.delete(sst, range(1, sst.shape[1], 2), axis=1)\n",
    "sst = np.delete(sst, range(1, sst.shape[0], 2), axis=0)\n",
    "sst = np.delete(sst, range(1, sst.shape[1], 2), axis=1)"
   ]
  },
  {
   "cell_type": "code",
   "execution_count": 10,
   "metadata": {},
   "outputs": [
    {
     "name": "stdout",
     "output_type": "stream",
     "text": [
      "(721, 1440)\n"
     ]
    },
    {
     "ename": "TypeError",
     "evalue": "must be real number, not NoneType",
     "output_type": "error",
     "traceback": [
      "\u001b[0;31m---------------------------------------------------------------------------\u001b[0m",
      "\u001b[0;31mAttributeError\u001b[0m                            Traceback (most recent call last)",
      "\u001b[0;32m/usr/local/lib/python3.6/dist-packages/shapely/speedups/_speedups.pyx\u001b[0m in \u001b[0;36mshapely.speedups._speedups.geos_linestring_from_py\u001b[0;34m()\u001b[0m\n",
      "\u001b[0;31mAttributeError\u001b[0m: 'list' object has no attribute '__array_interface__'",
      "\nDuring handling of the above exception, another exception occurred:\n",
      "\u001b[0;31mTypeError\u001b[0m                                 Traceback (most recent call last)",
      "\u001b[0;32m<ipython-input-10-3620ea3a8231>\u001b[0m in \u001b[0;36m<module>\u001b[0;34m\u001b[0m\n\u001b[1;32m     10\u001b[0m \u001b[0;31m# ax.barbs(lon, lat, ucomp, sst,transform=ccrs.PlateCarree(),length=2,linewidth=0.1)\u001b[0m\u001b[0;34m\u001b[0m\u001b[0;34m\u001b[0m\u001b[0;34m\u001b[0m\u001b[0m\n\u001b[1;32m     11\u001b[0m ax.set_extent([\n\u001b[0;32m---> 12\u001b[0;31m     None,None,89,-89])\n\u001b[0m\u001b[1;32m     13\u001b[0m \u001b[0;31m# ax.add_image(tiles, 9)\u001b[0m\u001b[0;34m\u001b[0m\u001b[0;34m\u001b[0m\u001b[0;34m\u001b[0m\u001b[0m\n\u001b[1;32m     14\u001b[0m \u001b[0;31m# ax.add_feature(cfeature.BORDERS, linewidth=0.01)\u001b[0m\u001b[0;34m\u001b[0m\u001b[0;34m\u001b[0m\u001b[0;34m\u001b[0m\u001b[0m\n",
      "\u001b[0;32m/usr/local/lib/python3.6/dist-packages/cartopy/mpl/geoaxes.py\u001b[0m in \u001b[0;36mset_extent\u001b[0;34m(self, extents, crs)\u001b[0m\n\u001b[1;32m    799\u001b[0m         domain_in_crs = sgeom.polygon.LineString([[x1, y1], [x2, y1],\n\u001b[1;32m    800\u001b[0m                                                   \u001b[0;34m[\u001b[0m\u001b[0mx2\u001b[0m\u001b[0;34m,\u001b[0m \u001b[0my2\u001b[0m\u001b[0;34m]\u001b[0m\u001b[0;34m,\u001b[0m \u001b[0;34m[\u001b[0m\u001b[0mx1\u001b[0m\u001b[0;34m,\u001b[0m \u001b[0my2\u001b[0m\u001b[0;34m]\u001b[0m\u001b[0;34m,\u001b[0m\u001b[0;34m\u001b[0m\u001b[0;34m\u001b[0m\u001b[0m\n\u001b[0;32m--> 801\u001b[0;31m                                                   [x1, y1]])\n\u001b[0m\u001b[1;32m    802\u001b[0m \u001b[0;34m\u001b[0m\u001b[0m\n\u001b[1;32m    803\u001b[0m         \u001b[0mprojected\u001b[0m \u001b[0;34m=\u001b[0m \u001b[0;32mNone\u001b[0m\u001b[0;34m\u001b[0m\u001b[0;34m\u001b[0m\u001b[0m\n",
      "\u001b[0;32m/usr/local/lib/python3.6/dist-packages/shapely/geometry/linestring.py\u001b[0m in \u001b[0;36m__init__\u001b[0;34m(self, coordinates)\u001b[0m\n\u001b[1;32m     46\u001b[0m         \u001b[0mBaseGeometry\u001b[0m\u001b[0;34m.\u001b[0m\u001b[0m__init__\u001b[0m\u001b[0;34m(\u001b[0m\u001b[0mself\u001b[0m\u001b[0;34m)\u001b[0m\u001b[0;34m\u001b[0m\u001b[0;34m\u001b[0m\u001b[0m\n\u001b[1;32m     47\u001b[0m         \u001b[0;32mif\u001b[0m \u001b[0mcoordinates\u001b[0m \u001b[0;32mis\u001b[0m \u001b[0;32mnot\u001b[0m \u001b[0;32mNone\u001b[0m\u001b[0;34m:\u001b[0m\u001b[0;34m\u001b[0m\u001b[0;34m\u001b[0m\u001b[0m\n\u001b[0;32m---> 48\u001b[0;31m             \u001b[0mself\u001b[0m\u001b[0;34m.\u001b[0m\u001b[0m_set_coords\u001b[0m\u001b[0;34m(\u001b[0m\u001b[0mcoordinates\u001b[0m\u001b[0;34m)\u001b[0m\u001b[0;34m\u001b[0m\u001b[0;34m\u001b[0m\u001b[0m\n\u001b[0m\u001b[1;32m     49\u001b[0m \u001b[0;34m\u001b[0m\u001b[0m\n\u001b[1;32m     50\u001b[0m     \u001b[0;34m@\u001b[0m\u001b[0mproperty\u001b[0m\u001b[0;34m\u001b[0m\u001b[0;34m\u001b[0m\u001b[0m\n",
      "\u001b[0;32m/usr/local/lib/python3.6/dist-packages/shapely/geometry/linestring.py\u001b[0m in \u001b[0;36m_set_coords\u001b[0;34m(self, coordinates)\u001b[0m\n\u001b[1;32m     95\u001b[0m     \u001b[0;32mdef\u001b[0m \u001b[0m_set_coords\u001b[0m\u001b[0;34m(\u001b[0m\u001b[0mself\u001b[0m\u001b[0;34m,\u001b[0m \u001b[0mcoordinates\u001b[0m\u001b[0;34m)\u001b[0m\u001b[0;34m:\u001b[0m\u001b[0;34m\u001b[0m\u001b[0;34m\u001b[0m\u001b[0m\n\u001b[1;32m     96\u001b[0m         \u001b[0mself\u001b[0m\u001b[0;34m.\u001b[0m\u001b[0mempty\u001b[0m\u001b[0;34m(\u001b[0m\u001b[0;34m)\u001b[0m\u001b[0;34m\u001b[0m\u001b[0;34m\u001b[0m\u001b[0m\n\u001b[0;32m---> 97\u001b[0;31m         \u001b[0mret\u001b[0m \u001b[0;34m=\u001b[0m \u001b[0mgeos_linestring_from_py\u001b[0m\u001b[0;34m(\u001b[0m\u001b[0mcoordinates\u001b[0m\u001b[0;34m)\u001b[0m\u001b[0;34m\u001b[0m\u001b[0;34m\u001b[0m\u001b[0m\n\u001b[0m\u001b[1;32m     98\u001b[0m         \u001b[0;32mif\u001b[0m \u001b[0mret\u001b[0m \u001b[0;32mis\u001b[0m \u001b[0;32mnot\u001b[0m \u001b[0;32mNone\u001b[0m\u001b[0;34m:\u001b[0m\u001b[0;34m\u001b[0m\u001b[0;34m\u001b[0m\u001b[0m\n\u001b[1;32m     99\u001b[0m             \u001b[0mself\u001b[0m\u001b[0;34m.\u001b[0m\u001b[0m_geom\u001b[0m\u001b[0;34m,\u001b[0m \u001b[0mself\u001b[0m\u001b[0;34m.\u001b[0m\u001b[0m_ndim\u001b[0m \u001b[0;34m=\u001b[0m \u001b[0mret\u001b[0m\u001b[0;34m\u001b[0m\u001b[0;34m\u001b[0m\u001b[0m\n",
      "\u001b[0;32m/usr/local/lib/python3.6/dist-packages/shapely/speedups/_speedups.pyx\u001b[0m in \u001b[0;36mshapely.speedups._speedups.geos_linestring_from_py\u001b[0;34m()\u001b[0m\n",
      "\u001b[0;31mTypeError\u001b[0m: must be real number, not NoneType"
     ]
    },
    {
     "data": {
      "image/png": "[encoded data removed]",
      "text/plain": [
       "<Figure size 432x288 with 1 Axes>"
      ]
     },
     "metadata": {
      "needs_background": "light"
     },
     "output_type": "display_data"
    }
   ],
   "source": [
    "# Draw coastlines so we know where we are:\n",
    "import matplotlib.pyplot as plt\n",
    "import cartopy.crs as ccrs\n",
    "from cartopy.io import img_tiles\n",
    "\n",
    "# tiles = img_tiles.OSM()\n",
    "print(lat.shape)\n",
    "ax = plt.axes(projection=ccrs.Mercator(central_longitude=0),frameon=False)\n",
    "# cs = plt.contour(lon,lat, sst, 2000,transform=ccrs.PlateCarree(),levels=range(220,300,2),linewidths=0.1) \n",
    "# ax.barbs(lon, lat, ucomp, sst,transform=ccrs.PlateCarree(),length=2,linewidth=0.1)\n",
    "ax.set_extent([\n",
    "            [-180, -80],\n",
    "            [-180, 84],\n",
    "            [179, 84],\n",
    "            [179, -80]\n",
    "          ])\n",
    "# ax.add_image(tiles, 9)\n",
    "# ax.add_feature(cfeature.BORDERS, linewidth=0.01)\n",
    "ax.add_feature(cfeature.COASTLINE, linewidth=0.1)\n",
    "\n",
    "plt.savefig(\"base.png\",format=\"png\",dpi=2000, bbox_inches='tight',pad_inches=0,transparent=True)\n",
    "plt.show()"
   ]
  }
 ],
 "metadata": {
  "kernelspec": {
   "display_name": "Python 3.6.9 64-bit",
   "language": "python",
   "name": "python36964bit4fe94f2363214a8ab8d6066db31be1b2"
  },
  "language_info": {
   "codemirror_mode": {
    "name": "ipython",
    "version": 3
   },
   "file_extension": ".py",
   "mimetype": "text/x-python",
   "name": "python",
   "nbconvert_exporter": "python",
   "pygments_lexer": "ipython3",
   "version": "3.6.9"
  }
 },
 "nbformat": 4,
 "nbformat_minor": 4
}
